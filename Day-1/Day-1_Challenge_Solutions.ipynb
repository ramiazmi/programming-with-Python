{
 "cells": [
  {
   "cell_type": "markdown",
   "metadata": {},
   "source": [
    "# Employing ONLY the string methods and operators, develop a Python code for the following challenges:"
   ]
  },
  {
   "cell_type": "markdown",
   "metadata": {},
   "source": [
    "## Challenge-1\n",
    "**Find if a given word is in lower/upper case**"
   ]
  },
  {
   "cell_type": "code",
   "execution_count": 1,
   "metadata": {},
   "outputs": [],
   "source": [
    "def is_lower(word):\n",
    "    return word.lower() == word\n",
    "\n",
    "def is_upper(word):\n",
    "    return word.upper() == word\n",
    "\n",
    "word = 'python'\n",
    "print('The word: {} is in lower case? {}'.format(word, is_lower(word)))\n",
    "print('The word: {} is in upper case? {}'.format(word, is_upper(word)))"
   ]
  },
  {
   "cell_type": "markdown",
   "metadata": {},
   "source": [
    "## Challenge-2\n",
    "**Find the length of a string.**"
   ]
  },
  {
   "cell_type": "code",
   "execution_count": 2,
   "metadata": {},
   "outputs": [],
   "source": [
    "def text_length(text):\n",
    "    my_end_char = '<END>'\n",
    "    return (text+my_end_char).find(my_end_char)\n",
    "\n",
    "\n",
    "text = 'Python is great'\n",
    "\n",
    "text_length(text)"
   ]
  },
  {
   "cell_type": "markdown",
   "metadata": {},
   "source": [
    "## Challenge-3\n",
    "**Find all occurrences of a word (from any text) in a given string.**"
   ]
  },
  {
   "cell_type": "code",
   "execution_count": 3,
   "metadata": {},
   "outputs": [],
   "source": [
    "text = 'Python is great. Python is my favorite. Python is powerful for data extraction problems'\n",
    "word = 'Python'\n",
    "text.count(word)"
   ]
  }
 ],
 "metadata": {
  "hide_input": false,
  "kernelspec": {
   "display_name": "Python 3",
   "language": "python",
   "name": "python3"
  },
  "language_info": {
   "codemirror_mode": {
    "name": "ipython",
    "version": 3
   },
   "file_extension": ".py",
   "mimetype": "text/x-python",
   "name": "python",
   "nbconvert_exporter": "python",
   "pygments_lexer": "ipython3",
   "version": "3.7.3"
  }
 },
 "nbformat": 4,
 "nbformat_minor": 2
}
