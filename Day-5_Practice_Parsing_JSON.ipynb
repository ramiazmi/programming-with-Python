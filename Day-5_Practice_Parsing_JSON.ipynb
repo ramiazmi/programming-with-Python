{
 "cells": [
  {
   "cell_type": "markdown",
   "metadata": {},
   "source": [
    "**In the examples below, we will practice how to parse JSON data using JSON package in Python**"
   ]
  },
  {
   "cell_type": "code",
   "execution_count": 1,
   "metadata": {},
   "outputs": [],
   "source": [
    "import json"
   ]
  },
  {
   "cell_type": "markdown",
   "metadata": {},
   "source": [
    "### Example-1"
   ]
  },
  {
   "cell_type": "code",
   "execution_count": 2,
   "metadata": {},
   "outputs": [],
   "source": [
    "import json\n",
    "\n",
    "data =  '{\"name\":\"Adam\", \"job\": \"Accountant\", \"company\":\"Jawwal\", \"city\":\"Nablus\"}'\n",
    "\n",
    "data_parsed = json.loads(data)\n",
    "\n",
    "print(\"This {} from {}\".format(data_parsed[\"name\"],data_parsed[\"city\"]))"
   ]
  },
  {
   "cell_type": "markdown",
   "metadata": {},
   "source": [
    "### Example-2"
   ]
  },
  {
   "cell_type": "code",
   "execution_count": 3,
   "metadata": {},
   "outputs": [],
   "source": [
    "import json\n",
    "\n",
    "with open('message.json','r') as json_file:\n",
    "          data = json_file.read()\n",
    "\n",
    "data_parsed = json.loads(data)\n",
    "data_parsed['message']"
   ]
  },
  {
   "cell_type": "markdown",
   "metadata": {},
   "source": [
    "### Example-3"
   ]
  },
  {
   "cell_type": "code",
   "execution_count": 4,
   "metadata": {},
   "outputs": [],
   "source": [
    "with open('servers.json','r') as json_file:\n",
    "          data = json_file.read()\n",
    "        \n",
    "servers =json.loads(data)['servers']\n",
    "\n",
    "print('The following servers are down:\\n',[server['ip'] for server in servers if server['status'] == 'down'])"
   ]
  },
  {
   "cell_type": "markdown",
   "metadata": {},
   "source": [
    "### Example-4"
   ]
  },
  {
   "cell_type": "code",
   "execution_count": 5,
   "metadata": {},
   "outputs": [],
   "source": [
    "with open('server_apps.json','r') as json_file:\n",
    "          data = json_file.read()\n",
    "        \n",
    "server_apps =json.loads(data)['server_apps']\n",
    "\n",
    "server_apps"
   ]
  }
 ],
 "metadata": {
  "hide_input": false,
  "kernelspec": {
   "display_name": "Python 3",
   "language": "python",
   "name": "python3"
  },
  "language_info": {
   "codemirror_mode": {
    "name": "ipython",
    "version": 3
   },
   "file_extension": ".py",
   "mimetype": "text/x-python",
   "name": "python",
   "nbconvert_exporter": "python",
   "pygments_lexer": "ipython3",
   "version": "3.7.3"
  }
 },
 "nbformat": 4,
 "nbformat_minor": 2
}
