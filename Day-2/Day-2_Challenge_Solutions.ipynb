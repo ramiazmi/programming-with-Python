{
 "cells": [
  {
   "cell_type": "markdown",
   "metadata": {},
   "source": [
    "## Challenge-1\n",
    "**Convert a dictionary into a list. Each key is repeated according to its value. E.g.:{'A':1, 'B': 2, 'C': 3} => ['A', 'B', 'B', 'C', 'C', 'C']**"
   ]
  },
  {
   "cell_type": "code",
   "execution_count": 1,
   "metadata": {},
   "outputs": [
    {
     "data": {
      "text/plain": [
       "['A', 'B', 'B', 'C', 'C', 'C']"
      ]
     },
     "execution_count": 1,
     "metadata": {},
     "output_type": "execute_result"
    }
   ],
   "source": [
    "my_dict = {'A':1, 'B': 2, 'C': 3}\n",
    "my_list = []\n",
    "for k, v in my_dict.items():\n",
    "    my_list += k*v\n",
    "\n",
    "my_list"
   ]
  },
  {
   "cell_type": "markdown",
   "metadata": {},
   "source": [
    "## Challenge-2\n",
    "**Find: count, sum, and average Of numbers in a list.**"
   ]
  },
  {
   "cell_type": "code",
   "execution_count": 2,
   "metadata": {},
   "outputs": [
    {
     "name": "stdout",
     "output_type": "stream",
     "text": [
      "Count: 3, Sum: 15, Average: 5.0\n"
     ]
    }
   ],
   "source": [
    "# All required statistics done utilizing only 1 loop\n",
    "\n",
    "numbers = [1, 4, 10]\n",
    "total = 0\n",
    "count = 0\n",
    "for number in numbers:\n",
    "    total += number\n",
    "    count += 1\n",
    "    \n",
    "print('Count: {}, Sum: {}, Average: {}'.format(count, total, total/count))"
   ]
  }
 ],
 "metadata": {
  "hide_input": false,
  "kernelspec": {
   "display_name": "Python 3",
   "language": "python",
   "name": "python3"
  },
  "language_info": {
   "codemirror_mode": {
    "name": "ipython",
    "version": 3
   },
   "file_extension": ".py",
   "mimetype": "text/x-python",
   "name": "python",
   "nbconvert_exporter": "python",
   "pygments_lexer": "ipython3",
   "version": "3.7.3"
  }
 },
 "nbformat": 4,
 "nbformat_minor": 2
}
