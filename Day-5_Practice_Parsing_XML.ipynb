{
 "cells": [
  {
   "cell_type": "markdown",
   "metadata": {},
   "source": [
    "**In the examples below, we will practice how to parse XML documents using ElementTree package in Python**"
   ]
  },
  {
   "cell_type": "code",
   "execution_count": 1,
   "metadata": {},
   "outputs": [],
   "source": [
    "import xml.etree.ElementTree as ET"
   ]
  },
  {
   "cell_type": "markdown",
   "metadata": {},
   "source": [
    "### Example-1"
   ]
  },
  {
   "cell_type": "code",
   "execution_count": 2,
   "metadata": {},
   "outputs": [
    {
     "data": {
      "text/plain": [
       "[{'from': '0599000001',\n",
       "  'to': '0599000002',\n",
       "  'body': 'Happy birthday my friend'}]"
      ]
     },
     "execution_count": 2,
     "metadata": {},
     "output_type": "execute_result"
    }
   ],
   "source": [
    "tree = ET.parse('message.xml')\n",
    "root = tree.getroot()\n",
    "\n",
    "messages = []\n",
    "\n",
    "for message in root.findall('message'):\n",
    "    message_temp = {}\n",
    "    message_temp['from'] = message.find('from').text\n",
    "    message_temp['to'] = message.find('to').text\n",
    "    message_temp['body'] = message.find('body').text\n",
    "    messages.append(message_temp)\n",
    "    \n",
    "messages"
   ]
  },
  {
   "cell_type": "markdown",
   "metadata": {},
   "source": [
    "### Example-2"
   ]
  },
  {
   "cell_type": "code",
   "execution_count": 3,
   "metadata": {},
   "outputs": [
    {
     "name": "stdout",
     "output_type": "stream",
     "text": [
      "The following servers are down:\n",
      " ['10.10.10.2', '10.10.10.4']\n"
     ]
    }
   ],
   "source": [
    "tree = ET.parse('servers.xml')\n",
    "root = tree.getroot()\n",
    "\n",
    "servers = []\n",
    "\n",
    "for server in root.findall('server'):\n",
    "    server_temp = {}\n",
    "    server_temp['name'] = server.get('name')\n",
    "    server_temp['ip'] = server.find('ip').text\n",
    "    server_temp['number_of_services'] = int(server.find('number_of_services').text)\n",
    "    server_temp['os'] = server.find('os').text\n",
    "    server_temp['status'] = server.find('status').text\n",
    "\n",
    "    servers.append(server_temp)\n",
    "    \n",
    "\n",
    "\n",
    "print('The following servers are down:\\n',[server['ip'] for server in servers if server['status'] == 'down'])"
   ]
  },
  {
   "cell_type": "markdown",
   "metadata": {},
   "source": [
    "### Example-3"
   ]
  },
  {
   "cell_type": "code",
   "execution_count": 4,
   "metadata": {},
   "outputs": [
    {
     "data": {
      "text/plain": [
       "[{'name': 'server-1',\n",
       "  'ip': '10.10.10.1',\n",
       "  'os': 'linux',\n",
       "  'applications': [{'name': 'Payroll',\n",
       "    'framework': 'spring',\n",
       "    'database': 'mysql'},\n",
       "   {'name': 'hr', 'framework': 'django', 'database': 'postgres'}]},\n",
       " {'name': 'server-2',\n",
       "  'ip': '10.10.10.2',\n",
       "  'os': 'windows',\n",
       "  'applications': [{'name': 'Customer Success',\n",
       "    'framework': 'spring',\n",
       "    'database': 'presto'},\n",
       "   {'name': 'Customer Services', 'framework': 'flask', 'database': 'mysql'},\n",
       "   {'name': 'Customer Churn', 'framework': 'grails', 'database': 'postgres'}]}]"
      ]
     },
     "execution_count": 4,
     "metadata": {},
     "output_type": "execute_result"
    }
   ],
   "source": [
    "tree = ET.parse('server_apps.xml')\n",
    "root = tree.getroot()\n",
    "\n",
    "server_apps = []\n",
    "\n",
    "for server_app in root.findall('server'):\n",
    "    server_apps_temp = {}\n",
    "    server_apps_temp['name'] = server_app.get('name')\n",
    "    server_apps_temp['ip'] = server_app.find('ip').text\n",
    "    server_apps_temp['os'] = server_app.find('os').text\n",
    "    applications = server_app.findall('application')\n",
    "\n",
    "    server_apps_temp['applications'] = []\n",
    "    \n",
    "    for application in applications:\n",
    "        server_apps_temp['applications'].append({'name': application.get('name'), \n",
    "                                                 'framework':application.get('framework'),\n",
    "                                                 'database':application.get('database')})\n",
    "    server_apps.append(server_apps_temp)\n",
    "\n",
    "server_apps"
   ]
  },
  {
   "cell_type": "markdown",
   "metadata": {},
   "source": [
    "## XPath Expressions"
   ]
  },
  {
   "cell_type": "code",
   "execution_count": 5,
   "metadata": {},
   "outputs": [
    {
     "name": "stdout",
     "output_type": "stream",
     "text": [
      "To: 0599000002 \n",
      "Mesage: Happy birthday my friend\n",
      "To: 0599000003 \n",
      "Mesage: Happy new year my friend\n",
      "To: 0599000004 \n",
      "Mesage: Hey my friend .. Happy new year\n",
      "**************************************************\n",
      "**************************************************\n",
      "To: 0599000002 \n",
      "Mesage: Happy birthday my friend\n",
      "To: 0599000003 \n",
      "Mesage: Happy new year my friend\n",
      "To: 0599000004 \n",
      "Mesage: Hey my friend .. Happy new year\n",
      "**************************************************\n",
      "**************************************************\n",
      "To: 0599000002 \n",
      "Mesage: Happy birthday my friend\n"
     ]
    }
   ],
   "source": [
    "tree = ET.parse('message_xpath.xml')\n",
    "root = tree.getroot()\n",
    "\n",
    "for m in root.findall(\"./message\"):\n",
    "    if m.find('from').text == '0599000001':\n",
    "        print('To: {} \\nMesage: {}'.format(m.find('to').text,m.find('body').text))\n",
    "print('*'*50) \n",
    "print('*'*50) \n",
    "for m in root.findall('.//message[from=\"0599000001\"]'):\n",
    "    print('To: {} \\nMesage: {}'.format(m.find('to').text,m.find('body').text))\n",
    "print('*'*50)  \n",
    "print('*'*50) \n",
    "for m in root.findall('.//message[1]'):\n",
    "    print('To: {} \\nMesage: {}'.format(m.find('to').text,m.find('body').text))"
   ]
  }
 ],
 "metadata": {
  "hide_input": false,
  "kernelspec": {
   "display_name": "Python 3",
   "language": "python",
   "name": "python3"
  },
  "language_info": {
   "codemirror_mode": {
    "name": "ipython",
    "version": 3
   },
   "file_extension": ".py",
   "mimetype": "text/x-python",
   "name": "python",
   "nbconvert_exporter": "python",
   "pygments_lexer": "ipython3",
   "version": "3.7.3"
  }
 },
 "nbformat": 4,
 "nbformat_minor": 2
}
