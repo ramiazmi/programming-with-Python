{
 "cells": [
  {
   "cell_type": "code",
   "execution_count": 1,
   "metadata": {},
   "outputs": [],
   "source": [
    "import re"
   ]
  },
  {
   "cell_type": "markdown",
   "metadata": {},
   "source": [
    "# Challenges\n",
    "<hr>"
   ]
  },
  {
   "cell_type": "markdown",
   "metadata": {},
   "source": [
    "## Challenge 1\n",
    "**Write a python function that detects floating number from a string**"
   ]
  },
  {
   "cell_type": "code",
   "execution_count": 2,
   "metadata": {},
   "outputs": [
    {
     "data": {
      "text/plain": [
       "['3.14', '-30.5']"
      ]
     },
     "execution_count": 2,
     "metadata": {},
     "output_type": "execute_result"
    }
   ],
   "source": [
    "string = 'In grade 7, we learnt that the pi is roughly 3.14. Today the temperature is -30.5 C.'\n",
    "\n",
    "re.findall('[+-]?\\d+.\\d+',string)"
   ]
  },
  {
   "cell_type": "markdown",
   "metadata": {},
   "source": [
    "## Challenge 2\n",
    "**Write a python function that validates a Jawwal number.**"
   ]
  },
  {
   "cell_type": "code",
   "execution_count": 3,
   "metadata": {},
   "outputs": [
    {
     "name": "stdout",
     "output_type": "stream",
     "text": [
      "0799111222 is a Jawwal number? No\n",
      "******************************\n",
      "0599111222 is a Jawwal number? Yes\n"
     ]
    }
   ],
   "source": [
    "def is_jawwal_number(number):\n",
    "    return 'Yes' if len(re.findall('^059[1-9]{1}([0-9]{6})$',number))>0 else 'No'\n",
    "\n",
    "test_number = '0799111222'\n",
    "print('{} is a Jawwal number? {}'.format(test_number, is_jawwal_number(test_number)))\n",
    "\n",
    "print('*'*30)\n",
    "\n",
    "test_number = '0599111222'\n",
    "print('{} is a Jawwal number? {}'.format(test_number, is_jawwal_number(test_number)))"
   ]
  },
  {
   "cell_type": "markdown",
   "metadata": {},
   "source": [
    "<hr>"
   ]
  },
  {
   "cell_type": "markdown",
   "metadata": {},
   "source": [
    "## Challenge 3\n",
    "**Write a python function that validates a URL.** <br>\n",
    "<font color=red>**Note:**</font> Keep it simple for learning purposes."
   ]
  },
  {
   "cell_type": "code",
   "execution_count": 4,
   "metadata": {},
   "outputs": [
    {
     "name": "stdout",
     "output_type": "stream",
     "text": [
      "\"ftp://www.newsoft-pal.co.uk\" is a valid URL? Yes\n",
      "******************************\n",
      "\"httpz://www.newsoft-pal.co.uk\" is a valid URL? No\n",
      "******************************\n",
      "\"www.newsoft.ps\" is a valid URL? Yes\n",
      "******************************\n",
      "\"newsoft.ps\" is a valid URL? Yes\n",
      "******************************\n",
      "\"newsoft-ps\" is a valid URL? No\n"
     ]
    }
   ],
   "source": [
    "def valid_url(url):\n",
    "    return 'Yes' if re.match('^(http[s]?|ftp://)?(www.)?[a-z0-9_-]+(\\.[a-z]{2,3})(\\.[a-z]{2,3})?$',url) != None else 'No'\n",
    "\n",
    "\n",
    "test_url = 'ftp://www.newsoft-pal.co.uk'\n",
    "print('\"{}\" is a valid URL? {}'.format(test_url, valid_url(test_url)))\n",
    "\n",
    "print('*'*30)\n",
    "\n",
    "test_url = 'httpz://www.newsoft-pal.co.uk'\n",
    "print('\"{}\" is a valid URL? {}'.format(test_url, valid_url(test_url)))\n",
    "\n",
    "print('*'*30)\n",
    "\n",
    "test_url = 'www.newsoft.ps'\n",
    "print('\"{}\" is a valid URL? {}'.format(test_url, valid_url(test_url)))\n",
    "\n",
    "print('*'*30)\n",
    "\n",
    "test_url = 'newsoft.ps'\n",
    "print('\"{}\" is a valid URL? {}'.format(test_url, valid_url(test_url)))\n",
    "\n",
    "print('*'*30)\n",
    "\n",
    "test_url = 'newsoft-ps'\n",
    "print('\"{}\" is a valid URL? {}'.format(test_url, valid_url(test_url)))"
   ]
  },
  {
   "cell_type": "markdown",
   "metadata": {},
   "source": [
    "<hr>"
   ]
  },
  {
   "cell_type": "markdown",
   "metadata": {},
   "source": [
    "## Challenge 4\n",
    "**Write a python function that validates an email address.**"
   ]
  },
  {
   "cell_type": "code",
   "execution_count": 5,
   "metadata": {},
   "outputs": [
    {
     "name": "stdout",
     "output_type": "stream",
     "text": [
      "\"info@newsoft.co.uk\" is a valid email address? Yes\n",
      "******************************\n",
      "\"info@newsoft.ps\" is a valid email address? Yes\n",
      "******************************\n",
      "\"info_newsoft.ps\" is a valid email address? No\n",
      "******************************\n",
      "\"info@newsoft.ps3\" is a valid email address? No\n",
      "******************************\n",
      "\"info@newsoft ps\" is a valid email address? No\n",
      "******************************\n",
      "\"info@newsoft\" is a valid email address? No\n"
     ]
    }
   ],
   "source": [
    "def valid_url(email):\n",
    "    return 'Yes' if re.match('^\\w+([\\.-]?\\w+)*@\\w+([\\.-]?\\w+)*(\\.[a-z]{2,3})+$', email) != None else 'No'\n",
    "\n",
    "\n",
    "test_email = 'info@newsoft.co.uk'\n",
    "print('\"{}\" is a valid email address? {}'.format(test_email, valid_url(test_email)))\n",
    "\n",
    "print('*'*30)\n",
    "\n",
    "test_email = 'info@newsoft.ps'\n",
    "print('\"{}\" is a valid email address? {}'.format(test_email, valid_url(test_email)))\n",
    "\n",
    "print('*'*30)\n",
    "\n",
    "test_email = 'info_newsoft.ps'\n",
    "print('\"{}\" is a valid email address? {}'.format(test_email, valid_url(test_email)))\n",
    "\n",
    "print('*'*30)\n",
    "\n",
    "test_email = 'info@newsoft.ps3'\n",
    "print('\"{}\" is a valid email address? {}'.format(test_email, valid_url(test_email)))\n",
    "\n",
    "print('*'*30)\n",
    "\n",
    "test_email = 'info@newsoft ps'\n",
    "print('\"{}\" is a valid email address? {}'.format(test_email, valid_url(test_email)))\n",
    "\n",
    "print('*'*30)\n",
    "\n",
    "test_email = 'info@newsoft'\n",
    "print('\"{}\" is a valid email address? {}'.format(test_email, valid_url(test_email)))"
   ]
  },
  {
   "cell_type": "markdown",
   "metadata": {},
   "source": [
    "<hr>"
   ]
  },
  {
   "cell_type": "markdown",
   "metadata": {},
   "source": [
    "# Challenge 5\n",
    "**Write a regex that extracts dates from a string.**\n",
    "<br><br>\n",
    "**Formats:** \n",
    "* dd-mm-yyyy\n",
    "* dd/mm/yyyy\n",
    "* yyyy-mm-dd\n",
    "* yyyy/mm/dd"
   ]
  },
  {
   "cell_type": "code",
   "execution_count": 6,
   "metadata": {},
   "outputs": [
    {
     "data": {
      "text/plain": [
       "<re.Match object; span=(25, 34), match='11/9/2019'>"
      ]
     },
     "execution_count": 6,
     "metadata": {},
     "output_type": "execute_result"
    }
   ],
   "source": [
    "date_string = 'We started this coure on 11/9/2019'\n",
    "re.search(r'\\d{4}[-/]?\\d{2}[-/]?\\d{2}|\\d{2}[-/]?[0-1]?\\d?[-/]?\\d{4}', date_string)\n"
   ]
  },
  {
   "cell_type": "markdown",
   "metadata": {},
   "source": [
    "<hr>"
   ]
  },
  {
   "cell_type": "markdown",
   "metadata": {},
   "source": [
    "# Challenge 6\n",
    "**Extract an I.P addresses from a string or a text file.**"
   ]
  },
  {
   "cell_type": "code",
   "execution_count": 7,
   "metadata": {},
   "outputs": [
    {
     "data": {
      "text/plain": [
       "['172.16.0.9', '192.168.0.9']"
      ]
     },
     "execution_count": 7,
     "metadata": {},
     "output_type": "execute_result"
    }
   ],
   "source": [
    "ip_string = 'The server whose i.p address was 172.16.0.9 it is changed to 192.168.0.9'\n",
    "ip_pattern = '([1][0-9][0-9].|^[2][5][0-5].|^[2][0-4][0-9].|^[1][0-9][0-9].|^[0-9][0-9].|^[0-9].)([1][0-9][0-9].|[2][5][0-5].|[2][0-4][0-9].|[1][0-9][0-9].|[0-9][0-9].|[0-9].)([1][0-9][0-9].|[2][5][0-5].|[2][0-4][0-9].|[1][0-9][0-9].|[0-9][0-9].|[0-9].)([1][0-9][0-9]|[2][5][0-5]|[2][0-4][0-9]|[1][0-9][0-9]|[0-9][0-9]|[0-9])'\n",
    "[''.join(ip) for ip in re.findall(ip_pattern,ip_string)]"
   ]
  },
  {
   "cell_type": "markdown",
   "metadata": {},
   "source": [
    "<hr>"
   ]
  },
  {
   "cell_type": "markdown",
   "metadata": {},
   "source": [
    "# Challenge 7\n",
    "**Write a regex that extracts elements tree of an XML document.**"
   ]
  },
  {
   "cell_type": "code",
   "execution_count": 8,
   "metadata": {},
   "outputs": [
    {
     "data": {
      "text/plain": [
       "['<messages>',\n",
       " '<message>',\n",
       " '<to>',\n",
       " '<from>',\n",
       " '<body>',\n",
       " '<message>',\n",
       " '<to>',\n",
       " '<from>',\n",
       " '<body>']"
      ]
     },
     "execution_count": 8,
     "metadata": {},
     "output_type": "execute_result"
    }
   ],
   "source": [
    "xml_text = '''\n",
    "<messages>\n",
    "    <message>\n",
    "       <to>0599111222</to>\n",
    "       <from>0599111111</from>\n",
    "       <body>Happy birthday mate!</body>\n",
    "   </message>\n",
    "   \n",
    "   <message>\n",
    "       <to>0599111111</to>\n",
    "       <from>0599111333</from>\n",
    "       <body>Hey mate! Are you there?</body>\n",
    "   </message>\n",
    "</messages>\n",
    "'''\n",
    "\n",
    "re.findall('<\\w+>?',xml_text)"
   ]
  },
  {
   "cell_type": "markdown",
   "metadata": {},
   "source": [
    "<hr>"
   ]
  },
  {
   "cell_type": "markdown",
   "metadata": {},
   "source": [
    "# Challenge 8\n",
    "**Write a regex that changes phrases to acronyms.**"
   ]
  },
  {
   "cell_type": "code",
   "execution_count": 9,
   "metadata": {},
   "outputs": [
    {
     "name": "stdout",
     "output_type": "stream",
     "text": [
      "This is my End => T.I.M.E\n",
      "Life murderer => L.M\n"
     ]
    }
   ],
   "source": [
    "string = \"This is my End\"\n",
    "print(string, '=>', '.'.join(re.findall(r'\\b[\\w]', string)).upper())\n",
    "\n",
    "string = \"Life murderer\"\n",
    "print(string, '=>', '.'.join(re.findall(r'\\b[\\w]', string)).upper())"
   ]
  },
  {
   "cell_type": "markdown",
   "metadata": {},
   "source": [
    "<hr>"
   ]
  },
  {
   "cell_type": "markdown",
   "metadata": {},
   "source": [
    "# Challenge 9\n",
    "**Write a regex that removes white spaces in a text.**"
   ]
  },
  {
   "cell_type": "code",
   "execution_count": 10,
   "metadata": {},
   "outputs": [
    {
     "data": {
      "text/plain": [
       "'Hi there '"
      ]
     },
     "execution_count": 10,
     "metadata": {},
     "output_type": "execute_result"
    }
   ],
   "source": [
    "spaces_string = 'Hi      there     '\n",
    "re.sub(r'(\\s+)' , \" \" , spaces_string)"
   ]
  },
  {
   "cell_type": "markdown",
   "metadata": {},
   "source": [
    "<hr>"
   ]
  }
 ],
 "metadata": {
  "hide_input": false,
  "kernelspec": {
   "display_name": "Python 3",
   "language": "python",
   "name": "python3"
  },
  "language_info": {
   "codemirror_mode": {
    "name": "ipython",
    "version": 3
   },
   "file_extension": ".py",
   "mimetype": "text/x-python",
   "name": "python",
   "nbconvert_exporter": "python",
   "pygments_lexer": "ipython3",
   "version": "3.7.3"
  }
 },
 "nbformat": 4,
 "nbformat_minor": 2
}
