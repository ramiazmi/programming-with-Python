{
 "cells": [
  {
   "cell_type": "markdown",
   "metadata": {},
   "source": [
    "# Day-7: Solution of Challenges\n",
    "<hr>\n",
    "\n",
    "<br>\n",
    "This challenge is based on data of the books.xml document."
   ]
  },
  {
   "cell_type": "code",
   "execution_count": 1,
   "metadata": {},
   "outputs": [],
   "source": [
    "import xml.etree.ElementTree as ET\n",
    "tree = ET.parse('books.xml')\n",
    "root = tree.getroot()"
   ]
  },
  {
   "cell_type": "markdown",
   "metadata": {},
   "source": [
    "<hr>\n",
    "\n",
    "# Challenge-1\n",
    "\n",
    "Using the books.xml document, find the all the information about books written by an author named Rob.\n",
    "<br>\n",
    "**Hint:** Use filter, lambda, and ElementTree."
   ]
  },
  {
   "cell_type": "code",
   "execution_count": 2,
   "metadata": {},
   "outputs": [
    {
     "name": "stdout",
     "output_type": "stream",
     "text": [
      "Programming Fundamentals with Python  ..  By: Rob K.    ...   Price: 5.50\n",
      "Java Made Simple  ..  By: Robin M.    ...   Price: 12.75\n"
     ]
    }
   ],
   "source": [
    "books_list = filter(lambda x: 'Rob' in x.find('Author').text, root.findall(\"Books/Book\"))\n",
    "\n",
    "for book in books_list:\n",
    "    print(book.find('Title').text, ' ..  By:', book.find('Author').text, '   ...   Price: {}'.format(book.get('price')))"
   ]
  },
  {
   "cell_type": "markdown",
   "metadata": {},
   "source": [
    "<hr>\n",
    "\n",
    "# Challenge-2\n",
    "\n",
    "Using the books.xml document, find the free books (**no price attribute**)."
   ]
  },
  {
   "cell_type": "code",
   "execution_count": 3,
   "metadata": {},
   "outputs": [
    {
     "name": "stdout",
     "output_type": "stream",
     "text": [
      "Python Tutorial  ..  By: Freeman L.\n",
      "Scala Tutorial  ..  By: Norman B.\n"
     ]
    }
   ],
   "source": [
    "for book in root.findall(\"Books/Book\"):\n",
    "    if book.get('price') is None:\n",
    "        print(book.find('Title').text, ' ..  By:', book.find('Author').text)"
   ]
  },
  {
   "cell_type": "markdown",
   "metadata": {},
   "source": [
    "<hr>\n",
    "\n",
    "# Challenge-3\n",
    "\n",
    "Convert the data in the books.xml document into a tabular form."
   ]
  },
  {
   "cell_type": "code",
   "execution_count": 4,
   "metadata": {},
   "outputs": [],
   "source": [
    "dummy_row = 'ID,Volume,Title,Author,Price\\n'\n",
    "with open('books_data.csv','w') as f:\n",
    "    for book in root.findall(\"Books/Book\"):\n",
    "        dummy_row += '{},{},{},{},{}\\n'.format(book.get('id'),book.get('volume'),\n",
    "                                        book.find('Title').text, book.find('Author').text,book.get('price'))\n",
    "    f.write(dummy_row)\n",
    "\n"
   ]
  },
  {
   "cell_type": "markdown",
   "metadata": {},
   "source": [
    "We can use pandas, by which we can convert **list of disctionaries of parsed xml data** into pandas dataframe, as follows.\n",
    "<br>\n",
    "<br>\n",
    "**Note:** The books_df dataframe can, then, be saves in a CSV file using books_df.to_csv('books.csv')"
   ]
  },
  {
   "cell_type": "code",
   "execution_count": 5,
   "metadata": {},
   "outputs": [
    {
     "data": {
      "text/html": [
       "<div>\n",
       "<style scoped>\n",
       "    .dataframe tbody tr th:only-of-type {\n",
       "        vertical-align: middle;\n",
       "    }\n",
       "\n",
       "    .dataframe tbody tr th {\n",
       "        vertical-align: top;\n",
       "    }\n",
       "\n",
       "    .dataframe thead th {\n",
       "        text-align: right;\n",
       "    }\n",
       "</style>\n",
       "<table border=\"1\" class=\"dataframe\">\n",
       "  <thead>\n",
       "    <tr style=\"text-align: right;\">\n",
       "      <th></th>\n",
       "      <th>ID</th>\n",
       "      <th>Volume</th>\n",
       "      <th>Title</th>\n",
       "      <th>Author</th>\n",
       "      <th>Price</th>\n",
       "    </tr>\n",
       "  </thead>\n",
       "  <tbody>\n",
       "    <tr>\n",
       "      <th>0</th>\n",
       "      <td>1</td>\n",
       "      <td>1</td>\n",
       "      <td>Calculus</td>\n",
       "      <td>Adam K.</td>\n",
       "      <td>11.35</td>\n",
       "    </tr>\n",
       "    <tr>\n",
       "      <th>1</th>\n",
       "      <td>2</td>\n",
       "      <td>None</td>\n",
       "      <td>Physics</td>\n",
       "      <td>Samer A.</td>\n",
       "      <td>12.05</td>\n",
       "    </tr>\n",
       "    <tr>\n",
       "      <th>2</th>\n",
       "      <td>3</td>\n",
       "      <td>None</td>\n",
       "      <td>Programming Fundamentals with Python</td>\n",
       "      <td>Rob K.</td>\n",
       "      <td>5.50</td>\n",
       "    </tr>\n",
       "    <tr>\n",
       "      <th>3</th>\n",
       "      <td>4</td>\n",
       "      <td>None</td>\n",
       "      <td>Arts of War</td>\n",
       "      <td>Lee X.</td>\n",
       "      <td>9.80</td>\n",
       "    </tr>\n",
       "    <tr>\n",
       "      <th>4</th>\n",
       "      <td>5</td>\n",
       "      <td>None</td>\n",
       "      <td>Java Made Simple</td>\n",
       "      <td>Robin M.</td>\n",
       "      <td>12.75</td>\n",
       "    </tr>\n",
       "    <tr>\n",
       "      <th>5</th>\n",
       "      <td>6</td>\n",
       "      <td>1</td>\n",
       "      <td>Software Engineering</td>\n",
       "      <td>Carob C.</td>\n",
       "      <td>5.50</td>\n",
       "    </tr>\n",
       "    <tr>\n",
       "      <th>6</th>\n",
       "      <td>7</td>\n",
       "      <td>None</td>\n",
       "      <td>Calculus in Action</td>\n",
       "      <td>Adam K.</td>\n",
       "      <td>10.35</td>\n",
       "    </tr>\n",
       "    <tr>\n",
       "      <th>7</th>\n",
       "      <td>8</td>\n",
       "      <td>None</td>\n",
       "      <td>Python Tutorial</td>\n",
       "      <td>Freeman L.</td>\n",
       "      <td>None</td>\n",
       "    </tr>\n",
       "    <tr>\n",
       "      <th>8</th>\n",
       "      <td>9</td>\n",
       "      <td>None</td>\n",
       "      <td>Scala Tutorial</td>\n",
       "      <td>Norman B.</td>\n",
       "      <td>None</td>\n",
       "    </tr>\n",
       "  </tbody>\n",
       "</table>\n",
       "</div>"
      ],
      "text/plain": [
       "  ID Volume                                 Title      Author  Price\n",
       "0  1      1                              Calculus     Adam K.  11.35\n",
       "1  2   None                               Physics    Samer A.  12.05\n",
       "2  3   None  Programming Fundamentals with Python      Rob K.   5.50\n",
       "3  4   None                           Arts of War      Lee X.   9.80\n",
       "4  5   None                      Java Made Simple    Robin M.  12.75\n",
       "5  6      1                  Software Engineering    Carob C.   5.50\n",
       "6  7   None                    Calculus in Action     Adam K.  10.35\n",
       "7  8   None                       Python Tutorial  Freeman L.   None\n",
       "8  9   None                        Scala Tutorial   Norman B.   None"
      ]
     },
     "execution_count": 5,
     "metadata": {},
     "output_type": "execute_result"
    }
   ],
   "source": [
    "import pandas as pd\n",
    "books = []\n",
    "for book in root.findall(\"Books/Book\"):\n",
    "    dummy_book = {}\n",
    "    dummy_book['ID'] = book.get('id')\n",
    "    dummy_book['Volume'] = book.get('volume')\n",
    "    dummy_book['Price'] = book.get('price')\n",
    "    dummy_book['Title'] = book.find('Title').text\n",
    "    dummy_book['Author'] = book.find('Author').text\n",
    "    books.append(dummy_book)\n",
    "    \n",
    "books\n",
    "books_df = pd.DataFrame(books)[['ID','Volume','Title','Author','Price']]\n",
    "books_df"
   ]
  },
  {
   "cell_type": "markdown",
   "metadata": {},
   "source": [
    "<hr>\n",
    "\n",
    "# Challenge-4\n",
    "\n",
    "Find the answer of the first challenge by another package called: lxml.etree, which has ‘contains’ capability."
   ]
  },
  {
   "cell_type": "code",
   "execution_count": 6,
   "metadata": {},
   "outputs": [
    {
     "name": "stdout",
     "output_type": "stream",
     "text": [
      "Programming Fundamentals with Python By: Rob K.    ...   Price: 5.50\n",
      "Java Made Simple By: Robin M.    ...   Price: 12.75\n"
     ]
    }
   ],
   "source": [
    "from lxml import etree\n",
    "tree = etree.parse('books.xml')\n",
    "books_list = tree.xpath(\".//Book[contains(Author,'Rob')]\")\n",
    "\n",
    "for book in books_list:\n",
    "    print(book.find('Title').text, 'By:', book.find('Author').text, '   ...   Price: {}'.format(book.get('price')))"
   ]
  }
 ],
 "metadata": {
  "hide_input": false,
  "kernelspec": {
   "display_name": "Python 3",
   "language": "python",
   "name": "python3"
  },
  "language_info": {
   "codemirror_mode": {
    "name": "ipython",
    "version": 3
   },
   "file_extension": ".py",
   "mimetype": "text/x-python",
   "name": "python",
   "nbconvert_exporter": "python",
   "pygments_lexer": "ipython3",
   "version": "3.7.3"
  }
 },
 "nbformat": 4,
 "nbformat_minor": 2
}
