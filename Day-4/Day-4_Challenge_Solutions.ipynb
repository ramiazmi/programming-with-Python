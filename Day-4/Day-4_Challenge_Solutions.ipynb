{
 "cells": [
  {
   "cell_type": "markdown",
   "metadata": {},
   "source": [
    "## Challenge-1\n",
    "**Write a function that takes a list of numbers and returns a list of even numbers only. The function should be one line of Python code.**"
   ]
  },
  {
   "cell_type": "code",
   "execution_count": 1,
   "metadata": {},
   "outputs": [
    {
     "data": {
      "text/plain": [
       "[2, 6, 10, 22, 30, 34]"
      ]
     },
     "execution_count": 1,
     "metadata": {},
     "output_type": "execute_result"
    }
   ],
   "source": [
    "numbers = [1,2,5,6,7,9,10,11,21,22,30,34]\n",
    "even_numbers = [number for number in numbers if number % 2 == 0]\n",
    "even_numbers"
   ]
  },
  {
   "cell_type": "markdown",
   "metadata": {},
   "source": [
    "## Challenge-2\n",
    "**Write a module that implements the Caesar cipher.**"
   ]
  },
  {
   "cell_type": "code",
   "execution_count": 2,
   "metadata": {},
   "outputs": [
    {
     "name": "stdout",
     "output_type": "stream",
     "text": [
      "Ciphered Text: Uijt!jt!b!uftu\n",
      "Original Text: This is a test\n"
     ]
    }
   ],
   "source": [
    "# To get the ASCII code of a character, use the ord() function\n",
    "# To get the character encoded by an ASCII code number, use the chr() function.\n",
    "\n",
    "def cipher_text(text):\n",
    "    return ''.join([chr(ord(ch)+1) for ch in text])\n",
    "\n",
    "def decipher_text(ciphered_text):\n",
    "    return ''.join([chr(ord(ch)-1) for ch in ciphered_text])\n",
    "\n",
    "text = 'This is a test'\n",
    "ciphered_text = cipher_text(text)\n",
    "\n",
    "print('Ciphered Text: {}'.format(ciphered_text))\n",
    "print('Original Text: {}'.format(decipher_text(ciphered_text)))"
   ]
  },
  {
   "cell_type": "markdown",
   "metadata": {},
   "source": [
    "## Challenge-3\n",
    "**Write a function that extracts special characters from a text.**"
   ]
  },
  {
   "cell_type": "code",
   "execution_count": 3,
   "metadata": {},
   "outputs": [
    {
     "data": {
      "text/plain": [
       "{' ', '!', '\"', '$', '.', '?', '@'}"
      ]
     },
     "execution_count": 3,
     "metadata": {},
     "output_type": "execute_result"
    }
   ],
   "source": [
    "def is_special_char(ch):\n",
    "    return ch not in [chr(c) for c in list(range(48,58)) + list(range(97,123)) + list(range(65,91))]\n",
    "\n",
    "text = 'The phrase \"p@$$w0rd\" is one of the worst passwords ever! right?.'\n",
    "\n",
    "set([ch for ch in text if is_special_char(ch)])"
   ]
  },
  {
   "cell_type": "markdown",
   "metadata": {},
   "source": [
    "## Challenge-4\n",
    "**Write a Python code that finds the most (3) frequent words in a text.**"
   ]
  },
  {
   "cell_type": "code",
   "execution_count": 4,
   "metadata": {},
   "outputs": [
    {
     "data": {
      "text/plain": [
       "['to', 'python', 'the']"
      ]
     },
     "execution_count": 4,
     "metadata": {},
     "output_type": "execute_result"
    }
   ],
   "source": [
    "sample_text = \"\"\"How to get started with Python?. Fortunately an experienced programmer in any programming \n",
    "          language (whatever it may be) can pick up Python very quickly. It's also easy for beginners to use \n",
    "          and learn Python, so jump in!\n",
    "          There is a list of tutorials suitable for experienced programmers on the Beginners Guide/Tutorials page. \n",
    "          There is also a list of resources in other languages which might be useful if English is not your first \n",
    "          language. \n",
    "          If you want to help to develop Python, take a look at the developer area for further information. \n",
    "          Please note that you don't have to be an expert programmer to help. The documentation is just \n",
    "          as important as the compiler, and still needs plenty of work!\n",
    "          Let's jump in an dlear Python programming. Are you reaady Mr. developer .. to the infinity and to beyond\"\"\"\n",
    "\n",
    "def clean_word(word):\n",
    "    return ''.join([c for c in word if not is_special_char(c)]).lower()\n",
    "        \n",
    "words_count = {}\n",
    "\n",
    "for word in sample_text.split():\n",
    "    word = clean_word(word)\n",
    "    try:\n",
    "        words_count[word] += 1\n",
    "    except:\n",
    "        words_count[word] = 1\n",
    "\n",
    "    \n",
    "sorted(words_count, key=words_count.get, reverse=True)[:3]"
   ]
  },
  {
   "cell_type": "markdown",
   "metadata": {},
   "source": [
    "## Challenge-5\n",
    "**Fibonacci Sequence. Again! But do not use a recursive function.**"
   ]
  },
  {
   "cell_type": "code",
   "execution_count": 5,
   "metadata": {},
   "outputs": [
    {
     "data": {
      "text/plain": [
       "[0, 1, 1, 2, 3]"
      ]
     },
     "execution_count": 5,
     "metadata": {},
     "output_type": "execute_result"
    }
   ],
   "source": [
    "def fibonacci(n):\n",
    "    a, b = 0, 1\n",
    "    for i in range(n):\n",
    "        yield a\n",
    "        a, b = b, a + b\n",
    "        \n",
    "list(fibonacci(5))"
   ]
  }
 ],
 "metadata": {
  "hide_input": false,
  "kernelspec": {
   "display_name": "Python 3",
   "language": "python",
   "name": "python3"
  },
  "language_info": {
   "codemirror_mode": {
    "name": "ipython",
    "version": 3
   },
   "file_extension": ".py",
   "mimetype": "text/x-python",
   "name": "python",
   "nbconvert_exporter": "python",
   "pygments_lexer": "ipython3",
   "version": "3.7.3"
  }
 },
 "nbformat": 4,
 "nbformat_minor": 2
}
