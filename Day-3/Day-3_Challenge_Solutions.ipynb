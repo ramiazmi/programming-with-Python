{
 "cells": [
  {
   "cell_type": "markdown",
   "metadata": {},
   "source": [
    "## Challenge-1\n",
    "**Write a Python function that computes the multiplication of all the numbers in a list.**"
   ]
  },
  {
   "cell_type": "code",
   "execution_count": 1,
   "metadata": {},
   "outputs": [
    {
     "data": {
      "text/plain": [
       "6"
      ]
     },
     "execution_count": 1,
     "metadata": {},
     "output_type": "execute_result"
    }
   ],
   "source": [
    "def multiplication(*numbers):\n",
    "    result = 1\n",
    "    for number in numbers:\n",
    "        result *= number\n",
    "    return result\n",
    "\n",
    "multiplication(1,2,3)"
   ]
  },
  {
   "cell_type": "markdown",
   "metadata": {},
   "source": [
    "## Challenge-2\n",
    "**Write a Python Program to Display Fibonacci Sequence. For example: 0, 1, 1, 2, 3, 5, 8, 13 and so on...**"
   ]
  },
  {
   "cell_type": "code",
   "execution_count": 2,
   "metadata": {},
   "outputs": [
    {
     "name": "stdout",
     "output_type": "stream",
     "text": [
      "0\n",
      "1\n",
      "1\n",
      "2\n",
      "3\n",
      "5\n",
      "8\n",
      "13\n"
     ]
    }
   ],
   "source": [
    "# This is not an optimum approach. It is only to show how to build a recursive function in Python\n",
    "def fibonacci_sequence(n):\n",
    "    def fibonacci(n):\n",
    "        return fibonacci(n-1) + fibonacci(n-2) if n > 1 else n\n",
    "    for i in range(n):\n",
    "        print(fibonacci(i))\n",
    "        \n",
    "fibonacci_sequence(8)"
   ]
  },
  {
   "cell_type": "markdown",
   "metadata": {},
   "source": [
    "## Challenge-3\n",
    "**Write a Python program to print Even Numbers in a List. Hint: use filter function and lambda expression**"
   ]
  },
  {
   "cell_type": "code",
   "execution_count": 3,
   "metadata": {},
   "outputs": [
    {
     "data": {
      "text/plain": [
       "[2, 6, 10, 16, 34]"
      ]
     },
     "execution_count": 3,
     "metadata": {},
     "output_type": "execute_result"
    }
   ],
   "source": [
    "numbers = [1, 2, 5, 6, 7, 10, 13, 16, 21, 34]\n",
    "even_numbers = filter(lambda x: x % 2 == 0, numbers)\n",
    "list(even_numbers)"
   ]
  }
 ],
 "metadata": {
  "hide_input": false,
  "kernelspec": {
   "display_name": "Python 3",
   "language": "python",
   "name": "python3"
  },
  "language_info": {
   "codemirror_mode": {
    "name": "ipython",
    "version": 3
   },
   "file_extension": ".py",
   "mimetype": "text/x-python",
   "name": "python",
   "nbconvert_exporter": "python",
   "pygments_lexer": "ipython3",
   "version": "3.7.3"
  }
 },
 "nbformat": 4,
 "nbformat_minor": 2
}
